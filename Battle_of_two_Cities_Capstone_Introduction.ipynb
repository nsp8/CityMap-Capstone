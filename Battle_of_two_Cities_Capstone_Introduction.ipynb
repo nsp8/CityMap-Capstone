{
  "nbformat": 4,
  "nbformat_minor": 0,
  "metadata": {
    "colab": {
      "name": "Battle of two Cities Capstone - Introduction.ipynb",
      "version": "0.3.2",
      "provenance": []
    },
    "kernelspec": {
      "name": "python3",
      "display_name": "Python 3"
    }
  },
  "cells": [
    {
      "metadata": {
        "id": "C1_BRoAdafZ4",
        "colab_type": "text"
      },
      "cell_type": "markdown",
      "source": [
        "# The Battle of two cities - New York City vs. London\n",
        "---\n",
        "\n",
        "## Introduction/Business Problem\n",
        "\n",
        "New York Ciy and London are one of the most popular and the most visited cities in the world.\n",
        "\n",
        "This Capstone project will focus on some of the Venue Categories in New York City and London, using the **Foursquare Location data**.\n",
        "This involves fetching a sample of Venue data from the _Foursquare API_ and arranging them on the basis of the most frequent venue categories, along with the venues falling under that category.\n",
        "\n",
        "_For e.g. From a sample of 100 Venues, New York City has four popular bakeries whereas in the 100 sample data set of venues in London, we find only one popular bakery._\n",
        "\n",
        "\n",
        "The Business Problem is more of an informative reflection on the comparison of these two great cities. Thus, the target audience could comprise of the popular demographic or tourists traveling to/fro these locations to explore the venues hosted here. This project tries to showcase the venues from both these cities and forms a comparison of sorts between the two cities."
      ]
    }
  ]
}
