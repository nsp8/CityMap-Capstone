{
  "nbformat": 4,
  "nbformat_minor": 0,
  "metadata": {
    "colab": {
      "name": "Extract_GeoData.ipynb",
      "version": "0.3.2",
      "provenance": []
    },
    "kernelspec": {
      "name": "python3",
      "display_name": "Python 3"
    }
  },
  "cells": [
    {
      "metadata": {
        "id": "jDzymbOUafYW",
        "colab_type": "text"
      },
      "cell_type": "markdown",
      "source": [
        "**This notebook extracts and merges the Geospacial data with the Neighbourhood data in a DataFrame**"
      ]
    },
    {
      "metadata": {
        "id": "-H_Bjwt4arA-",
        "colab_type": "text"
      },
      "cell_type": "markdown",
      "source": [
        "> Import all the modules"
      ]
    },
    {
      "metadata": {
        "id": "uNg_bYoFc5T1",
        "colab_type": "code",
        "colab": {
          "base_uri": "https://localhost:8080/",
          "height": 68
        },
        "outputId": "7fb6f1a3-5256-4ea0-fce9-77b390565006"
      },
      "cell_type": "code",
      "source": [
        "import requests\n",
        "import pandas as pd\n",
        "from bs4 import BeautifulSoup as BSoup\n",
        "\"\"\"\n",
        "Not working:\n",
        "import geocoder # import geocoder\n",
        "from geopy.geocoders import Nominatim\n",
        "\"\"\""
      ],
      "execution_count": 18,
      "outputs": [
        {
          "output_type": "stream",
          "text": [
            "Requirement already satisfied: geopy in /usr/local/lib/python3.6/dist-packages (1.17.0)\n",
            "Requirement already satisfied: geographiclib<2,>=1.49 in /usr/local/lib/python3.6/dist-packages (from geopy) (1.49)\n"
          ],
          "name": "stdout"
        },
        {
          "output_type": "execute_result",
          "data": {
            "text/plain": [
              "'\\nNot working:\\nimport geocoder # import geocoder\\nfrom geopy.geocoders import Nominatim\\n'"
            ]
          },
          "metadata": {
            "tags": []
          },
          "execution_count": 18
        }
      ]
    },
    {
      "metadata": {
        "id": "H1sBT6mnawF5",
        "colab_type": "text"
      },
      "cell_type": "markdown",
      "source": [
        "> Extract the Neighbourhood data from the Wikipedia page and save it in a DataFrame"
      ]
    },
    {
      "metadata": {
        "id": "Z9N3MmUgDdz9",
        "colab_type": "code",
        "colab": {}
      },
      "cell_type": "code",
      "source": [
        "BASE_URI = 'https://en.wikipedia.org'\n",
        "page = requests.get(BASE_URI+'/wiki/List_of_postal_codes_of_Canada:_M')\n",
        "\n",
        "# Using BeautifulSoup to make fetch happen\n",
        "soup = BSoup(page.content, 'html.parser')\n",
        "\n",
        "# Picking the target elements\n",
        "neighbourhood_on_page = soup.select('table.wikitable tbody tr')\n",
        "\n",
        "# Extracting values from target elements:\n",
        "neighbourhood_data = list()\n",
        "for neighbourhood in neighbourhood_on_page:\n",
        "  neighbour_dict = dict()\n",
        "  element_chain = list()\n",
        "  for child in neighbourhood.children:\n",
        "    if 'get_text' in dir(child):\n",
        "      element = child.get_text()\n",
        "    else:\n",
        "      element = child.string\n",
        "    element_chain.append(element)\n",
        "\n",
        "  # Cleaning: encoding strings and replacing newline characters from returned HTML leaves\n",
        "  element_chain = [element for element in map(lambda chain: str(chain).replace('\\n', ''), element_chain)]\n",
        "\n",
        "  # Cleaning: removing escape characters from returned list of elements\n",
        "  elements = [element for element in filter(lambda element: element, element_chain)]\n",
        "  if elements[1] != 'Not assigned': \n",
        "    # Filtering \"Not assigned\" Boroughs\n",
        "    if elements[2] == 'Not assigned':\n",
        "      # Cleaning \"Not assigned\" Neighbourhoods\n",
        "      elements[2] = elements[1]\n",
        "    neighbourhood_data.append(elements)\n",
        "\n",
        "df_cols = neighbourhood_data.pop(0)\n",
        "\n",
        "neighbourhood_df = pd.DataFrame(neighbourhood_data, columns=df_cols)\n",
        "\n",
        "grouped_df = pd.DataFrame({'Neighbourhood':neighbourhood_df.groupby('Postcode').apply(lambda x: ','.join(x.Neighbourhood))})\n",
        "grouped_df.reset_index(inplace=True)"
      ],
      "execution_count": 0,
      "outputs": []
    },
    {
      "metadata": {
        "id": "6HQWcsOvbawD",
        "colab_type": "text"
      },
      "cell_type": "markdown",
      "source": [
        "> Since the geospatial data could not be extracted from the libraries: the **csv** file has been used to get the latitudes and longitudes of the places.\n",
        "\n",
        "> Finally, the geospatial values are merged with our neighbourhood data in a DataFrame."
      ]
    },
    {
      "metadata": {
        "id": "Mm6--EwOiofi",
        "colab_type": "code",
        "colab": {},
        "cellView": "both"
      },
      "cell_type": "code",
      "source": [
        "# Fetching Geospatial Data from URL:\n",
        "data_csv = requests.get('https://cocl.us/Geospatial_data').text.split('\\r\\n')\n",
        "data = [obj for obj in map(lambda i: i.split(','), data_csv)]\n",
        "cols = data.pop(0)\n",
        "cols[0] = df_cols[0]\n",
        "geodata_df = pd.DataFrame(data, columns=cols)\n",
        "\n",
        "# Unifying the repeated Neighbourhood values of the same Postalcode\n",
        "merged_df = pd.merge(neighbourhood_df[['Postcode', 'Borough']], grouped_df, how=\"inner\", on=\"Postcode\")\n",
        "merged_df.drop_duplicates(inplace=True)\n",
        "\n",
        "# Merging the neighbourhood data with their geospatial values\n",
        "final_df = pd.merge(merged_df, geodata_df, how=\"inner\", on=\"Postcode\")\n",
        "print(final_df)"
      ],
      "execution_count": 0,
      "outputs": []
    }
  ]
}
