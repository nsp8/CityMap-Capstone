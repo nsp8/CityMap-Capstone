{
  "nbformat": 4,
  "nbformat_minor": 0,
  "metadata": {
    "colab": {
      "name": "Neighbourhood_data.ipynb",
      "version": "0.3.2",
      "provenance": []
    },
    "kernelspec": {
      "name": "python3",
      "display_name": "Python 3"
    }
  },
  "cells": [
    {
      "metadata": {
        "id": "THXMhVcX4vU_",
        "colab_type": "text"
      },
      "cell_type": "markdown",
      "source": [
        "**This notebook scrapes the wiki page of Toronto's Neighbourhood List and saves the data in a DataFrame**"
      ]
    },
    {
      "metadata": {
        "id": "cJsrcsSv5bHb",
        "colab_type": "text"
      },
      "cell_type": "markdown",
      "source": [
        "> Importing libraries"
      ]
    },
    {
      "metadata": {
        "id": "r8NOlgJU4fK5",
        "colab_type": "code",
        "colab": {}
      },
      "cell_type": "code",
      "source": [
        "import requests\n",
        "import pandas as pd\n",
        "from bs4 import BeautifulSoup as BSoup"
      ],
      "execution_count": 0,
      "outputs": []
    },
    {
      "metadata": {
        "id": "ag75JEvX5n4G",
        "colab_type": "text"
      },
      "cell_type": "markdown",
      "source": [
        "> Preparing the scraper-soup"
      ]
    },
    {
      "metadata": {
        "id": "w1hTos7v5qRs",
        "colab_type": "code",
        "colab": {}
      },
      "cell_type": "code",
      "source": [
        "BASE_URI = 'https://en.wikipedia.org'\n",
        "page = requests.get(BASE_URI+'/wiki/List_of_postal_codes_of_Canada:_M')\n",
        "\n",
        "# Using BeautifulSoup to make fetch happen\n",
        "soup = BSoup(page.content, 'html.parser')\n",
        "\n",
        "# Picking the target elements\n",
        "neighbourhood_on_page = soup.select('table.wikitable tbody tr')\n"
      ],
      "execution_count": 0,
      "outputs": []
    },
    {
      "metadata": {
        "id": "MNF-q41j55Ku",
        "colab_type": "text"
      },
      "cell_type": "markdown",
      "source": [
        "> Extracting values from the target elements of the table of values in the page.\n",
        "    \n",
        "    This step also involves cleaning the data on the basis of the following criteria:\n",
        "    \n",
        "    i) Ignoring the values with Boroughs as 'Not assigned'\n",
        "    \n",
        "    ii) Equating the value of Neighbourhood with that of its Borough if it is 'Not assigned'",
        "    \n",
        "    iii) Merging the Neighbourhood values of the same Postalcode into one row"
      ]
    },
    {
      "metadata": {
        "id": "6KXq5D-39xjr",
        "colab_type": "code",
        "colab": {}
      },
      "cell_type": "code",
      "source": [
        "# Extracting values from target elements:\n",
        "neighbourhood_data = list()\n",
        "for neighbourhood in neighbourhood_on_page:\n",
        "  neighbour_dict = dict()\n",
        "  element_chain = list()\n",
        "  for child in neighbourhood.children:\n",
        "    if 'get_text' in dir(child):\n",
        "      element = child.get_text()\n",
        "    else:\n",
        "      element = child.string\n",
        "    element_chain.append(element)\n",
        "\n",
        "  # Cleaning: encoding strings and replacing newline characters from returned HTML leaves\n",
        "  element_chain = [element for element in map(lambda chain: str(chain).replace('\\n', ''), element_chain)]\n",
        "\n",
        "  # Cleaning: removing escape characters from returned list of elements\n",
        "  elements = [element for element in filter(lambda element: element, element_chain)]\n",
        "  if elements[1] != 'Not assigned': \n",
        "    # Filtering \"Not assigned\" Boroughs\n",
        "    if elements[2] == 'Not assigned':\n",
        "      # Cleaning \"Not assigned\" Neighbourhoods\n",
        "      elements[2] = elements[1]\n",
        "    neighbourhood_data.append(elements)"
      ],
      "execution_count": 0,
      "outputs": []
    },
    {
      "metadata": {
        "id": "8sPq4K5J9zQr",
        "colab_type": "text"
      },
      "cell_type": "markdown",
      "source": [
        "> Saving the data in a DataFrame and printing the number of rows of the dataframe"
      ]
    },
    {
      "metadata": {
        "id": "Jy9VEpOV-ABt",
        "colab_type": "code",
        "colab": {
          "base_uri": "https://localhost:8080/",
          "height": 34
        },
        "outputId": "07f2df12-9643-4099-9e99-73a73fdd1bd9"
      },
      "cell_type": "code",
      "source": [
        "df_cols = neighbourhood_data.pop(0)\n",
        "neighbourhood_df = pd.DataFrame(neighbourhood_data, columns=df_cols)\n",
        "\n",
        "grouped_df = pd.DataFrame({'Neighbourhood':neighbourhood_df.groupby('Postcode').apply(lambda x: ','.join(x.Neighbourhood))})\n",
        "grouped_df.reset_index(inplace=True)\n",
        "\n",
        "merged_df = pd.merge(neighbourhood_df[['Postcode', 'Borough']], grouped_df, how=\"inner\", on=\"Postcode\")\n",
        "merged_df.drop_duplicates(inplace=True)\n",
        "\n",
        "print(\"Number of rows in the dataframe = {}\".format(merged_df.shape[0]))"
      ],
      "execution_count": 13,
      "outputs": [
        {
          "output_type": "stream",
          "text": [
            "Number of rows in the dataframe = 103\n"
          ],
          "name": "stdout"
        }
      ]
    }
  ]
}
