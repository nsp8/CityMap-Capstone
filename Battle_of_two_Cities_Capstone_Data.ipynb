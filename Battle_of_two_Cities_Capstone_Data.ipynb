{
  "nbformat": 4,
  "nbformat_minor": 0,
  "metadata": {
    "colab": {
      "name": "Battle of two Cities Capstone - Data.ipynb",
      "version": "0.3.2",
      "provenance": []
    },
    "kernelspec": {
      "name": "python3",
      "display_name": "Python 3"
    }
  },
  "cells": [
    {
      "metadata": {
        "id": "21l4Y5ldeyRt",
        "colab_type": "text"
      },
      "cell_type": "markdown",
      "source": [
        "# The Battle of two cities - New York City vs. London\n",
        "---\n",
        "\n",
        "## Data\n",
        "\n",
        "To form a comparison anlaysis between the two cities, the data that will be used in this project will be _Foursquare Location data_ (by accessing the **Foursquare API**) and then mapped onto Libraries like Seaborn and Folium maps for visualization.\n",
        "\n",
        "For e.g. the New York Venues grouped according to the venue categories (from a sample of 100 venues) would be fetched by these steps:\n",
        "\n",
        "* Hit the **explore** Foursquare API endpoint of both these cities\n",
        "\n",
        "* Fetch 100 of the venues and their categories and save these in separate Pandas DataFrames\n",
        "\n",
        "* Group these venues according to their categories to form a grouped data of the highest occuring Venue Categories in that dataset\n",
        "\n",
        "* Visualise that data using Seaborn and Folium Maps\n"
      ]
    }
  ]
}
